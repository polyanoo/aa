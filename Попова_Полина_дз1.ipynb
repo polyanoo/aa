{
  "nbformat": 4,
  "nbformat_minor": 0,
  "metadata": {
    "colab": {
      "provenance": [],
      "authorship_tag": "ABX9TyNvp6XY6vbmgfzrrZo/iAg0",
      "include_colab_link": true
    },
    "kernelspec": {
      "name": "python3",
      "display_name": "Python 3"
    },
    "language_info": {
      "name": "python"
    }
  },
  "cells": [
    {
      "cell_type": "markdown",
      "metadata": {
        "id": "view-in-github",
        "colab_type": "text"
      },
      "source": [
        "<a href=\"https://colab.research.google.com/github/polyanoo/compiling/blob/main/%D0%9F%D0%BE%D0%BF%D0%BE%D0%B2%D0%B0_%D0%9F%D0%BE%D0%BB%D0%B8%D0%BD%D0%B0_%D0%B4%D0%B71.ipynb\" target=\"_parent\"><img src=\"https://colab.research.google.com/assets/colab-badge.svg\" alt=\"Open In Colab\"/></a>"
      ]
    },
    {
      "cell_type": "code",
      "execution_count": 27,
      "metadata": {
        "colab": {
          "base_uri": "https://localhost:8080/"
        },
        "id": "yISuP8u-Jsv-",
        "outputId": "47681572-557f-47e3-a87d-11e4d307855d"
      },
      "outputs": [
        {
          "output_type": "stream",
          "name": "stdout",
          "text": [
            "--2024-01-28 19:23:23--  https://raw.githubusercontent.com/karpathy/char-rnn/master/data/tinyshakespeare/input.txt\n",
            "Resolving raw.githubusercontent.com (raw.githubusercontent.com)... 185.199.108.133, 185.199.109.133, 185.199.110.133, ...\n",
            "Connecting to raw.githubusercontent.com (raw.githubusercontent.com)|185.199.108.133|:443... connected.\n",
            "HTTP request sent, awaiting response... 200 OK\n",
            "Length: 1115394 (1.1M) [text/plain]\n",
            "Saving to: ‘input.txt.1’\n",
            "\n",
            "\rinput.txt.1           0%[                    ]       0  --.-KB/s               \rinput.txt.1         100%[===================>]   1.06M  --.-KB/s    in 0.02s   \n",
            "\n",
            "2024-01-28 19:23:23 (53.8 MB/s) - ‘input.txt.1’ saved [1115394/1115394]\n",
            "\n"
          ]
        }
      ],
      "source": [
        "!wget https://raw.githubusercontent.com/karpathy/char-rnn/master/data/tinyshakespeare/input.txt"
      ]
    },
    {
      "cell_type": "code",
      "source": [
        "import re\n",
        "import nltk\n",
        "import matplotlib.pyplot as plt\n",
        "nltk.download('stopwords')\n",
        "from nltk.tokenize import word_tokenize\n",
        "from gensim.models import Word2Vec\n",
        "from sklearn.decomposition import PCA\n",
        "from nltk.stem import WordNetLemmatizer\n",
        "from nltk.tokenize import word_tokenize\n",
        "from nltk.corpus import stopwords\n",
        "file_path = 'input.txt'"
      ],
      "metadata": {
        "colab": {
          "base_uri": "https://localhost:8080/"
        },
        "id": "HXPvvavUOplu",
        "outputId": "1536c4ab-950a-4cb1-e306-19d3d3acf5ab"
      },
      "execution_count": 32,
      "outputs": [
        {
          "output_type": "stream",
          "name": "stderr",
          "text": [
            "[nltk_data] Downloading package stopwords to /root/nltk_data...\n",
            "[nltk_data]   Unzipping corpora/stopwords.zip.\n"
          ]
        }
      ]
    },
    {
      "cell_type": "code",
      "source": [
        "with open(file_path, 'r') as file:\n",
        "    text_content = file.read()\n",
        "\n",
        "def clean_text(text):\n",
        "    text = text.lower()\n",
        "    text = re.sub(r'[^a-z\\s]', '', text)\n",
        "    text = re.sub(r'\\s+', ' ', text).strip()\n",
        "    return text\n",
        "\n",
        "cleaned_text = clean_text(text_content)\n",
        "\n",
        "tokens = word_tokenize(cleaned_text)\n",
        "\n",
        "stop_words = set(stopwords.words('english'))\n",
        "tokens = [word for word in tokens if word.lower() not in stop_words]"
      ],
      "metadata": {
        "id": "AT7A_eeDggAA"
      },
      "execution_count": 35,
      "outputs": []
    },
    {
      "cell_type": "code",
      "source": [
        "model = Word2Vec(sentences=[tokens], vector_size=100, window=5, min_count=1, workers=4)\n",
        "model.wv['king']"
      ],
      "metadata": {
        "colab": {
          "base_uri": "https://localhost:8080/"
        },
        "id": "E_4hCDK5gnCz",
        "outputId": "ff5c1a6b-b4ee-4098-9551-8c265c652244"
      },
      "execution_count": 44,
      "outputs": [
        {
          "output_type": "execute_result",
          "data": {
            "text/plain": [
              "array([ 9.3145944e-05,  3.1112744e-03, -6.7663677e-03, -1.3235710e-03,\n",
              "        7.7920300e-03,  7.1407780e-03, -3.5348057e-03,  2.7354809e-03,\n",
              "       -8.4440298e-03,  6.1859712e-03, -4.6623680e-03, -3.3372582e-03,\n",
              "        9.1934754e-03,  8.8475487e-04,  7.5921416e-03, -6.2295008e-03,\n",
              "        5.1741037e-03,  9.7883046e-03, -8.5034324e-03, -5.2907323e-03,\n",
              "       -6.9990945e-03, -4.7875969e-03, -3.6863915e-03, -8.5909516e-03,\n",
              "        7.8024808e-03, -4.8888149e-03,  8.3964830e-03,  5.1851803e-03,\n",
              "       -6.6043390e-03,  3.8205017e-03,  5.6213746e-03, -7.4163340e-03,\n",
              "       -7.3872157e-03, -2.5352181e-03, -8.5831629e-03, -1.4452643e-03,\n",
              "       -2.8707134e-04,  3.3098783e-03,  1.3657493e-03, -9.9832762e-04,\n",
              "       -5.5922349e-03,  1.5047805e-03, -1.0559289e-03,  6.8209413e-03,\n",
              "        4.0603448e-03,  4.5962986e-03,  1.3078121e-03, -2.6980136e-03,\n",
              "       -4.2355629e-03, -9.2618784e-04,  1.4751214e-03, -2.7258794e-03,\n",
              "       -7.0957462e-03, -7.9152538e-03, -9.2687905e-03, -5.7968101e-03,\n",
              "       -1.7566669e-03, -4.3654046e-03, -6.4202063e-03, -3.7537322e-03,\n",
              "        4.2990115e-03, -3.6311138e-03,  8.2645621e-03,  1.4718276e-03,\n",
              "       -7.3638414e-03,  9.5563848e-03,  7.6214904e-03,  5.5422247e-03,\n",
              "       -6.9901333e-03,  5.8426126e-03,  3.9212331e-03,  5.2791182e-03,\n",
              "        4.3297568e-03,  1.8846828e-03, -3.0962988e-03,  8.4090689e-03,\n",
              "        9.5923059e-03,  3.8489203e-03, -2.9327904e-03,  5.2097843e-05,\n",
              "        1.0809380e-03, -8.5332897e-03, -8.3774701e-03, -4.4156586e-05,\n",
              "        1.2953487e-03, -5.6764591e-03, -4.7305222e-03, -7.3359646e-03,\n",
              "        8.4902374e-03,  3.0778075e-04, -4.4088522e-03,  5.7269591e-03,\n",
              "        9.2090210e-03, -4.1121715e-03,  8.2596848e-03,  5.4223035e-03,\n",
              "        5.8854995e-03,  5.0699979e-04,  8.0992598e-03, -6.9770743e-03],\n",
              "      dtype=float32)"
            ]
          },
          "metadata": {},
          "execution_count": 44
        }
      ]
    },
    {
      "cell_type": "code",
      "source": [
        "model.wv.most_similar([\"king\"])"
      ],
      "metadata": {
        "colab": {
          "base_uri": "https://localhost:8080/"
        },
        "id": "KrFOm4lsg4w-",
        "outputId": "e2ed5987-e666-487e-c002-7d18d0ce574b"
      },
      "execution_count": 45,
      "outputs": [
        {
          "output_type": "execute_result",
          "data": {
            "text/plain": [
              "[('following', 0.37871962785720825),\n",
              " ('halfmoon', 0.36562228202819824),\n",
              " ('hencebanished', 0.35695189237594604),\n",
              " ('tops', 0.3323342800140381),\n",
              " ('therewith', 0.32556644082069397),\n",
              " ('dissension', 0.32018423080444336),\n",
              " ('debt', 0.31755542755126953),\n",
              " ('quarter', 0.31566405296325684),\n",
              " ('savageness', 0.3156253397464752),\n",
              " ('banks', 0.3146883547306061)]"
            ]
          },
          "metadata": {},
          "execution_count": 45
        }
      ]
    },
    {
      "cell_type": "code",
      "source": [
        "model.wv.most_similar([\"queen\"])"
      ],
      "metadata": {
        "colab": {
          "base_uri": "https://localhost:8080/"
        },
        "id": "6UZEBO6fg-Xw",
        "outputId": "cfdc49c3-b7e3-42f1-9738-1ce3df89f7ea"
      },
      "execution_count": 46,
      "outputs": [
        {
          "output_type": "execute_result",
          "data": {
            "text/plain": [
              "[('oercoverd', 0.3648677170276642),\n",
              " ('close', 0.3439558148384094),\n",
              " ('ache', 0.33714985847473145),\n",
              " ('bruise', 0.3322811424732208),\n",
              " ('domestic', 0.3315054178237915),\n",
              " ('confound', 0.3264138102531433),\n",
              " ('oerbear', 0.32451361417770386),\n",
              " ('darkly', 0.31663644313812256),\n",
              " ('unless', 0.3116218149662018),\n",
              " ('retail', 0.2993168532848358)]"
            ]
          },
          "metadata": {},
          "execution_count": 46
        }
      ]
    },
    {
      "cell_type": "code",
      "source": [
        "model.wv.similarity('king', 'queen')"
      ],
      "metadata": {
        "colab": {
          "base_uri": "https://localhost:8080/"
        },
        "id": "p_GlGUecgp9Z",
        "outputId": "b265e4d1-ed29-4f1c-87dc-88897c50fcdd"
      },
      "execution_count": 47,
      "outputs": [
        {
          "output_type": "execute_result",
          "data": {
            "text/plain": [
              "-0.036845148"
            ]
          },
          "metadata": {},
          "execution_count": 47
        }
      ]
    },
    {
      "cell_type": "code",
      "source": [
        "model.wv.similarity('king', 'prince')"
      ],
      "metadata": {
        "colab": {
          "base_uri": "https://localhost:8080/"
        },
        "id": "vES4IY_YkhuD",
        "outputId": "28251a4c-e48a-4d05-998b-639d4b5cd870"
      },
      "execution_count": 52,
      "outputs": [
        {
          "output_type": "execute_result",
          "data": {
            "text/plain": [
              "0.10492411"
            ]
          },
          "metadata": {},
          "execution_count": 52
        }
      ]
    },
    {
      "cell_type": "code",
      "source": [
        "model.wv.doesnt_match(['king', 'queen', 'prince', 'princess'])"
      ],
      "metadata": {
        "colab": {
          "base_uri": "https://localhost:8080/",
          "height": 36
        },
        "id": "UlLUj8AzgugZ",
        "outputId": "3f7b5442-6e94-4b71-fe30-39935c4bc950"
      },
      "execution_count": 48,
      "outputs": [
        {
          "output_type": "execute_result",
          "data": {
            "text/plain": [
              "'princess'"
            ],
            "application/vnd.google.colaboratory.intrinsic+json": {
              "type": "string"
            }
          },
          "metadata": {},
          "execution_count": 48
        }
      ]
    },
    {
      "cell_type": "code",
      "source": [
        "model.wv.doesnt_match(['king', 'prince', 'queen'])"
      ],
      "metadata": {
        "colab": {
          "base_uri": "https://localhost:8080/",
          "height": 36
        },
        "id": "U2tqUvkqkmjN",
        "outputId": "2531af2f-e7e9-4550-8cc7-577b51362cb5"
      },
      "execution_count": 53,
      "outputs": [
        {
          "output_type": "execute_result",
          "data": {
            "text/plain": [
              "'queen'"
            ],
            "application/vnd.google.colaboratory.intrinsic+json": {
              "type": "string"
            }
          },
          "metadata": {},
          "execution_count": 53
        }
      ]
    },
    {
      "cell_type": "code",
      "source": [
        "plt.style.use('seaborn-v0_8')\n",
        "\n",
        "def pca_scatterplot(model, words=None, sample=0):\n",
        "  word_vectors = [model.wv[w] for w in words]\n",
        "  vectors_2d = PCA().fit_transform(word_vectors)\n",
        "  plt.figure(figsize=(12,10))\n",
        "  plt.scatter(vectors_2d[:,0], vectors_2d[:,1], c='b')\n",
        "  for i, word in enumerate(words):\n",
        "    plt.annotate(word, (vectors_2d[i, 0], vectors_2d[i, 1]))\n",
        "\n",
        "\n",
        "pca_scatterplot(model, ['smart', 'handsome', 'beautiful', 'kind', 'gentle', 'old', 'young', 'wise','foolish',\n",
        "                                'prince', 'princess', 'lady', 'king', 'queen', 'lord'])"
      ],
      "metadata": {
        "colab": {
          "base_uri": "https://localhost:8080/",
          "height": 830
        },
        "id": "thgqiycqgyDj",
        "outputId": "b464d91d-0a9b-4762-9179-7b69b1d69f18"
      },
      "execution_count": 51,
      "outputs": [
        {
          "output_type": "display_data",
          "data": {
            "text/plain": [
              "<Figure size 1200x1000 with 1 Axes>"
            ],
            "image/png": "[encoded data removed]"
          },
          "metadata": {}
        }
      ]
    },
    {
      "cell_type": "markdown",
      "source": [
        "После удаления стоп-слов связи стали видны лучше (но все еще не идеальны?)\n",
        "Возможно, если добавить еще и лемматизацию, связи станут еще лучше... Простите, меня не было на парах и я почти ничего не поняла, но я обязательно разберусь(("
      ],
      "metadata": {
        "id": "Qb7E8gHZjlB7"
      }
    }
  ]
}
